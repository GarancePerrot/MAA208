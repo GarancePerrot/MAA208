{
 "cells": [
  {
   "cell_type": "markdown",
   "metadata": {},
   "source": [
    "# Tutorial 1: Determinant and inverse"
   ]
  },
  {
   "cell_type": "code",
   "execution_count": 2,
   "metadata": {},
   "outputs": [],
   "source": [
    "# Load packages:\n",
    "\n",
    "# this package allows to work efficiently with arrays\n",
    "import numpy as np\n",
    "# this package is used to draw graphs\n",
    "import matplotlib.pyplot as plt"
   ]
  },
  {
   "cell_type": "markdown",
   "metadata": {},
   "source": [
    "In this implementation exercise, a naive method based on Laplace expansion is tested for the computation of determinants and inverses of large matrices. The objective is to observe how expensive such a method is. The next lectures and tutorials present smarter alternatives for such computations."
   ]
  },
  {
   "cell_type": "markdown",
   "metadata": {},
   "source": [
    "---\n",
    "\n",
    "## Determinant of a 2$\\times$2 matrix"
   ]
  },
  {
   "cell_type": "markdown",
   "metadata": {},
   "source": [
    "1) a) Recall the formula of the determinant of a 2$\\times$2 matrix \n",
    "\n",
    "$$A = \\left(\\begin{array}{cc} a & b \\\\ c & d\\end{array}\\right).$$ \n",
    "\n",
    "b) For the test below, we use the matrix\n",
    "\n",
    "$$B = \\left(\\begin{array}{cc} 1 & 2 \\\\ 3 & 4 \\end{array}\\right).$$ \n",
    "\n",
    "Compute $det(B)$.\n",
    "\n",
    "c) How many operations are performed?"
   ]
  },
  {
   "cell_type": "markdown",
   "metadata": {},
   "source": [
    "**Answer:**\n",
    "\n",
    "a) det A = ad - bc\n",
    "\n",
    "b) det (B) = 1*4 - 3*2 = -2\n",
    "\n",
    "c)3 operations"
   ]
  },
  {
   "cell_type": "markdown",
   "metadata": {},
   "source": [
    "2) a) Implement a function that takes a $2\\times2$ matrix in entry and returns its determinant using this formula. \n",
    "\n",
    "b) Test your algorithm on the matrix $B$ and compare it with the result obtained in 1.b. "
   ]
  },
  {
   "cell_type": "code",
   "execution_count": 13,
   "metadata": {},
   "outputs": [],
   "source": [
    "def det_22(A):\n",
    "    \"\"\"\n",
    "    Compute the determinant of a 2x2 matrix\n",
    "    ----------   \n",
    "    parameters:\n",
    "    A : matrix (numpy array of size 2,2)\n",
    "    \n",
    "    returns:\n",
    "    det : determinant of A\n",
    "    \"\"\"\n",
    "    \n",
    "    ### write your formula here\n",
    "    det = A[0,0]*A[1,1] - A[0,1]*A[1,0]\n",
    "    ###\n",
    "    \n",
    "    return det"
   ]
  },
  {
   "cell_type": "code",
   "execution_count": 14,
   "metadata": {},
   "outputs": [
    {
     "name": "stdout",
     "output_type": "stream",
     "text": [
      "det(B) =  -2\n"
     ]
    }
   ],
   "source": [
    "#Test the function det_22 with the following matrix\n",
    "B     = np.array([[1,2],[3,4]])\n",
    "\n",
    "det_B = det_22(B)\n",
    "\n",
    "print(\"det(B) = \", det_B)"
   ]
  },
  {
   "cell_type": "markdown",
   "metadata": {},
   "source": [
    "---\n",
    "\n",
    "## Determinant of a 3$\\times$3 matrix"
   ]
  },
  {
   "cell_type": "markdown",
   "metadata": {},
   "source": [
    "3) a) Using Laplace expansion with respect to the first row, recall the determinant of the matrix \n",
    "\n",
    "$$ A = \\left(\\begin{array}{ccc} a & b & c \\\\ d & e & f \\\\ g & h & i\\end{array}\\right), $$\n",
    "\n",
    "as a function of the vector $(a,b,c)$ and of determinants of $2\\times2$ matrices.\n",
    "\n",
    "b) For the test below, we use the matrix \n",
    "\n",
    "$$ B = \\left(\\begin{array}{ccc} 1 & 2 & 3 \\\\ 4 & 5 & 6 \\\\ 7 & 8 & 9 \\end{array}\\right).$$\n",
    "\n",
    "Compute $det(B)$."
   ]
  },
  {
   "cell_type": "markdown",
   "metadata": {},
   "source": [
    "**Answer:**\n",
    "\n",
    "a) det A = aei - ahf - bdi +bgf+cdh-ceg\n",
    "\n",
    "b) det B = 5*9 -8*6 -2*4*9+2*7*6+3*4*8-3*5*7 =0"
   ]
  },
  {
   "cell_type": "markdown",
   "metadata": {},
   "source": [
    "4) How many operations are required for: \n",
    "- the computation of the full determinant, knowing the vector $(a,b,c)$ and all the determinants of the $2\\times2$ matrices \n",
    "- the computation of all the determinants of the $2\\times2$ matrices \n",
    "- then the computation of the full determinant, knowing only $A$"
   ]
  },
  {
   "cell_type": "markdown",
   "metadata": {},
   "source": [
    "**Answer:**  \n",
    " 5 operations (3 multiplications and  additions/substractions)\n",
    "9 operations (3 operations per det, 3 det)\n",
    "11 operations"
   ]
  },
  {
   "cell_type": "markdown",
   "metadata": {},
   "source": [
    "5) a) Implement a function that takes such a $3\\times3$ matrix in entry and returns its determinant using this formula. \n",
    "\n",
    "***Indications:***\n",
    "- You should use the function \"det_22\" you coded before.</li>\n",
    "- You can use the function \"delete\" of numpy: \n",
    "    - delete(B, j, 0) returns the matrix B without the $j$-th row, \n",
    "    - delete(B, j, 1) returns the matrix B without its j-th column.\n",
    "\n",
    "b) Test your algorithm on the matrix $B$ and compare it with the result obtained in 3.b. "
   ]
  },
  {
   "cell_type": "code",
   "execution_count": 5,
   "metadata": {},
   "outputs": [
    {
     "name": "stdout",
     "output_type": "stream",
     "text": [
      "B: \n",
      " [[1 2 3]\n",
      " [4 5 6]\n",
      " [7 8 9]] \n",
      "\n",
      "delete(B, 1, 0):\n",
      "  [[1 2 3]\n",
      " [7 8 9]] \n",
      "\n",
      "delete(B, 1, 1):\n",
      " [[1 3]\n",
      " [4 6]\n",
      " [7 9]] \n",
      "\n"
     ]
    }
   ],
   "source": [
    "#Example of use of the function delete\n",
    "B     = np.array([[1,2,3],[4,5,6],[7,8,9]])\n",
    "\n",
    "print(\"B: \\n\", B,\"\\n\")\n",
    "print(\"delete(B, 1, 0):\\n \", np.delete(B, 1, 0), \"\\n\")\n",
    "print(\"delete(B, 1, 1):\\n\", np.delete(B, 1, 1), \"\\n\")"
   ]
  },
  {
   "cell_type": "code",
   "execution_count": 29,
   "metadata": {},
   "outputs": [],
   "source": [
    "def det_33(A):\n",
    "    \"\"\"\n",
    "    Compute the determinant of a 3x3 matrix\n",
    "    ----------   \n",
    "    parameters:\n",
    "    A : matrix (numpy array of size 3,3)\n",
    "    \n",
    "    returns:\n",
    "    det : determinant of A\n",
    "    \"\"\"\n",
    "    \n",
    "    ### write your formula here\n",
    "    a = A[0,0]\n",
    "    b = A[0,1]\n",
    "    c = A[0,2]\n",
    "    det = a * det_22(np.delete((np.delete(B,0,1)),0,0)) - b * det_22(np.delete((np.delete(B,0,1)),1,0)) +c * det_22(np.delete((np.delete(B,0,1)),2,0))\n",
    "    \n",
    "    ###\n",
    "    \n",
    "    return det"
   ]
  },
  {
   "cell_type": "code",
   "execution_count": 30,
   "metadata": {},
   "outputs": [
    {
     "name": "stdout",
     "output_type": "stream",
     "text": [
      "det(B) =  0\n"
     ]
    }
   ],
   "source": [
    "#Test the function det_33\n",
    "B     = np.array([[1,2,3],[4,5,6],[7,8,9]])\n",
    "\n",
    "det_B = det_33(B)\n",
    "\n",
    "print(\"det(B) = \", det_B)"
   ]
  },
  {
   "cell_type": "markdown",
   "metadata": {},
   "source": [
    "---\n",
    "\n",
    "## Determinant of a $N\\times N$ matrix"
   ]
  },
  {
   "cell_type": "markdown",
   "metadata": {},
   "source": [
    "**Important remark before starting:** \n",
    "\n",
    "In this section, we will implement a recursive algorithm, i.e. a function that calls itself in its definition. If possible, this type of algorithms should be avoided, because \n",
    "- It may create infinite loops if it is badly implemented (missing stopping criterium).\n",
    "- It may fill the memory if the loop is too long. Especially, Python stores all the intermediate variables, and the storage increases very fast in the present algorithm.\n",
    "\n",
    "The algorithm proposed here should break after few iterations, so <b>SAVE REGULARLY YOUR NOTEBOOK</b>."
   ]
  },
  {
   "cell_type": "markdown",
   "metadata": {},
   "source": [
    "6) Using again Laplace expansion with respect to the first row, recall the determinant of the matrix $A \\in \\mathbb{R}^{N\\times N}$ as a function of the vector $V = (A_{1,i})_{i=1,\\dots,N}$ and of determinants of smaller matrices of size $(N-1)\\times(N-1)$. "
   ]
  },
  {
   "cell_type": "markdown",
   "metadata": {},
   "source": [
    "**Answer:** "
   ]
  },
  {
   "cell_type": "markdown",
   "metadata": {},
   "source": [
    "7) a) How many operations are required for: \n",
    "- The computation of the full determinant, knowing the vector $V$ and all the determinants of the smaller matrices as a function $N$.\n",
    "- then for the computation of each determinant of the smaller matrices of size $(N-1)\\times(N-1)$ in terms of the $N-2$ step.\n",
    "\n",
    "b) How many determinants of size $(N-1)\\times(N-1)$ are necessary? Then of size $(N-2)\\times(N-2)$? </li>\n",
    "\n",
    "c) Using a similar iterative sequence, write a formula for the quantity $Q_N$ of operations required for the computation of a determinant of a $N\\times N$ matrix as a function of $Q_{N-1}$ and $N$. Compare this sequence to the sequence $N!$.</li>"
   ]
  },
  {
   "cell_type": "markdown",
   "metadata": {},
   "source": [
    "**Answer:**\n",
    "\n",
    "a) \n",
    "\n",
    "b) \n",
    "\n",
    "c) "
   ]
  },
  {
   "cell_type": "markdown",
   "metadata": {},
   "source": [
    "8) a) Save your notebook, and save it regularly while debugging.\n",
    "\n",
    "b) In the test below, we use the matrix \n",
    "\n",
    "$$ B = \\left( \\begin{array}{cccc} 1 & 2 & 3 & 4 \\\\ 5 & 6 & 7 & 8 \\\\ 9 & 10 & 11 & 12 \\\\ 13 & 14 & 15 & 16 \\end{array}\\right).$$\n",
    "\n",
    "Compute $det(B)$. \n",
    "\n",
    "c) Using Laplace formula with respect to the first row of $A$, implement a function that takes a matrix $A\\in\\mathbb{R}^{N\\times N}$, and the size $N$ in entry and returns its determinant. \n",
    "\n",
    "***Indications:***\n",
    "- This algorithm should exploit the functions \n",
    "    - \"det_22\" if $N=2$,\n",
    "    - or \"det_NN\" itself with a new $N'=N-1$ if $N>2$ (recursive definition)\n",
    "- You may use the function \"delete\" of numpy.\n",
    "\n",
    "d) Test your algorithm on the matrix $B$ and compare it with the result obtained in 8.b. "
   ]
  },
  {
   "cell_type": "code",
   "execution_count": 31,
   "metadata": {},
   "outputs": [],
   "source": [
    "def det_NN(A, N):\n",
    "    \"\"\"\n",
    "    Compute the determinant of a NxN matrix\n",
    "    ----------   \n",
    "    parameters:\n",
    "    A : matrix (numpy array of size N,N)\n",
    "    N : size of the matrix\n",
    "    \n",
    "    returns:\n",
    "    det : determinant of A\n",
    "    \"\"\"\n",
    "    \n",
    "    ### modify this algorithm\n",
    "    det = 0\n",
    "    \n",
    "    if(N==2):\n",
    "        ### return the determinant of a 2x2 matrix\n",
    "        det = det_22(A)\n",
    "        return det\n",
    "    else:       \n",
    "        ### return the determinant of a NxN matrix using Laplace expansion\n",
    "        s = 0\n",
    "        m = 1\n",
    "        for j in range(N):\n",
    "            s += m * A[0,j]* det_NN(np.delete((np.delete(B,0,1)),j,0) , N-1 )\n",
    "            m = (-1)*m\n",
    "        det = s\n",
    "    ###    \n",
    "    \n",
    "    return det"
   ]
  },
  {
   "cell_type": "code",
   "execution_count": 35,
   "metadata": {},
   "outputs": [
    {
     "name": "stdout",
     "output_type": "stream",
     "text": [
      "det(B) =  0\n"
     ]
    }
   ],
   "source": [
    "#Test this function\n",
    "B     = np.array([[1,2,3,4],[5,6,7,8],[9,10,11,12],[13,14,15,16]])\n",
    "\n",
    "det_B = det_NN(B, 4)\n",
    "\n",
    "print(\"det(B) = \", det_B)"
   ]
  },
  {
   "cell_type": "markdown",
   "metadata": {},
   "source": [
    "9) Now copy your algorithm. And add a counter of operations performed for the computation of the determinant. \n",
    "\n",
    "a) Test your algorithm with the provided $4\\times4$ matrix and verify the obtained number of operations.\n",
    "\n",
    "b) Test your algorithm with the identity matrices of size $N = 2,...,6$ and plot the number of operations as a function of $N$. \n",
    "\n",
    "c) Verify the formula of $Q_N$ found in 7.c."
   ]
  },
  {
   "cell_type": "code",
   "execution_count": 45,
   "metadata": {},
   "outputs": [],
   "source": [
    "def det_NN_count(A, N):\n",
    "    \"\"\"\n",
    "    Compute the determinant of a NxN matrix\n",
    "    ----------   \n",
    "    parameters:\n",
    "    A       : matrix (numpy array of size N,N)\n",
    "    N       : size of the matrix\n",
    "    counter : \n",
    "    \n",
    "    returns:\n",
    "    det     : determinant of A\n",
    "    counter : number of operations performed in the algorithm\n",
    "    \"\"\"\n",
    "    \n",
    "    \n",
    "    ### modify this algorithm\n",
    "    det = 0\n",
    "    c = 0\n",
    "    \n",
    "    if(N==2):\n",
    "        ### return the determinant of a 2x2 matrix\n",
    "        det = det_22(A)\n",
    "        return (det , 3)\n",
    "    else:       \n",
    "        ### return the determinant of a NxN matrix using Laplace expansion\n",
    "        s = 0\n",
    "        m = 1\n",
    "        for j in range(N):\n",
    "            d = det_NN(np.delete((np.delete(B,0,1)),j,0) , N-1 )\n",
    "            print(d)\n",
    "            s += m * A[0,j]* d[0]\n",
    "            m = (-1)*m\n",
    "            c += d[1]\n",
    "        det = s\n",
    "    ###    \n",
    "    \n",
    "    return det, c "
   ]
  },
  {
   "cell_type": "code",
   "execution_count": 46,
   "metadata": {},
   "outputs": [
    {
     "name": "stdout",
     "output_type": "stream",
     "text": [
      "0\n"
     ]
    },
    {
     "ename": "IndexError",
     "evalue": "invalid index to scalar variable.",
     "output_type": "error",
     "traceback": [
      "\u001b[0;31m---------------------------------------------------------------------------\u001b[0m",
      "\u001b[0;31mIndexError\u001b[0m                                Traceback (most recent call last)",
      "\u001b[0;32m/tmp/ipykernel_28193/1422359205.py\u001b[0m in \u001b[0;36m<module>\u001b[0;34m\u001b[0m\n\u001b[1;32m      2\u001b[0m \u001b[0mB\u001b[0m                 \u001b[0;34m=\u001b[0m \u001b[0mnp\u001b[0m\u001b[0;34m.\u001b[0m\u001b[0marray\u001b[0m\u001b[0;34m(\u001b[0m\u001b[0;34m[\u001b[0m\u001b[0;34m[\u001b[0m\u001b[0;36m1\u001b[0m\u001b[0;34m,\u001b[0m\u001b[0;36m2\u001b[0m\u001b[0;34m,\u001b[0m\u001b[0;36m3\u001b[0m\u001b[0;34m,\u001b[0m\u001b[0;36m4\u001b[0m\u001b[0;34m]\u001b[0m\u001b[0;34m,\u001b[0m\u001b[0;34m[\u001b[0m\u001b[0;36m5\u001b[0m\u001b[0;34m,\u001b[0m\u001b[0;36m6\u001b[0m\u001b[0;34m,\u001b[0m\u001b[0;36m7\u001b[0m\u001b[0;34m,\u001b[0m\u001b[0;36m8\u001b[0m\u001b[0;34m]\u001b[0m\u001b[0;34m,\u001b[0m\u001b[0;34m[\u001b[0m\u001b[0;36m9\u001b[0m\u001b[0;34m,\u001b[0m\u001b[0;36m10\u001b[0m\u001b[0;34m,\u001b[0m\u001b[0;36m11\u001b[0m\u001b[0;34m,\u001b[0m\u001b[0;36m12\u001b[0m\u001b[0;34m]\u001b[0m\u001b[0;34m,\u001b[0m\u001b[0;34m[\u001b[0m\u001b[0;36m13\u001b[0m\u001b[0;34m,\u001b[0m\u001b[0;36m14\u001b[0m\u001b[0;34m,\u001b[0m\u001b[0;36m15\u001b[0m\u001b[0;34m,\u001b[0m\u001b[0;36m16\u001b[0m\u001b[0;34m]\u001b[0m\u001b[0;34m]\u001b[0m\u001b[0;34m)\u001b[0m\u001b[0;34m\u001b[0m\u001b[0;34m\u001b[0m\u001b[0m\n\u001b[1;32m      3\u001b[0m \u001b[0;34m\u001b[0m\u001b[0m\n\u001b[0;32m----> 4\u001b[0;31m \u001b[0mdet_B\u001b[0m\u001b[0;34m,\u001b[0m \u001b[0mcounter_op\u001b[0m \u001b[0;34m=\u001b[0m \u001b[0mdet_NN_count\u001b[0m\u001b[0;34m(\u001b[0m\u001b[0mB\u001b[0m\u001b[0;34m,\u001b[0m \u001b[0mlen\u001b[0m\u001b[0;34m(\u001b[0m\u001b[0mB\u001b[0m\u001b[0;34m)\u001b[0m\u001b[0;34m)\u001b[0m\u001b[0;34m\u001b[0m\u001b[0;34m\u001b[0m\u001b[0m\n\u001b[0m\u001b[1;32m      5\u001b[0m \u001b[0;34m\u001b[0m\u001b[0m\n\u001b[1;32m      6\u001b[0m \u001b[0mprint\u001b[0m\u001b[0;34m(\u001b[0m\u001b[0;34m\"det(B) = \"\u001b[0m\u001b[0;34m,\u001b[0m \u001b[0mdet_B\u001b[0m\u001b[0;34m)\u001b[0m\u001b[0;34m\u001b[0m\u001b[0;34m\u001b[0m\u001b[0m\n",
      "\u001b[0;32m/tmp/ipykernel_28193/1692876539.py\u001b[0m in \u001b[0;36mdet_NN_count\u001b[0;34m(A, N)\u001b[0m\n\u001b[1;32m     29\u001b[0m             \u001b[0md\u001b[0m \u001b[0;34m=\u001b[0m \u001b[0mdet_NN\u001b[0m\u001b[0;34m(\u001b[0m\u001b[0mnp\u001b[0m\u001b[0;34m.\u001b[0m\u001b[0mdelete\u001b[0m\u001b[0;34m(\u001b[0m\u001b[0;34m(\u001b[0m\u001b[0mnp\u001b[0m\u001b[0;34m.\u001b[0m\u001b[0mdelete\u001b[0m\u001b[0;34m(\u001b[0m\u001b[0mB\u001b[0m\u001b[0;34m,\u001b[0m\u001b[0;36m0\u001b[0m\u001b[0;34m,\u001b[0m\u001b[0;36m1\u001b[0m\u001b[0;34m)\u001b[0m\u001b[0;34m)\u001b[0m\u001b[0;34m,\u001b[0m\u001b[0mj\u001b[0m\u001b[0;34m,\u001b[0m\u001b[0;36m0\u001b[0m\u001b[0;34m)\u001b[0m \u001b[0;34m,\u001b[0m \u001b[0mN\u001b[0m\u001b[0;34m-\u001b[0m\u001b[0;36m1\u001b[0m \u001b[0;34m)\u001b[0m\u001b[0;34m\u001b[0m\u001b[0;34m\u001b[0m\u001b[0m\n\u001b[1;32m     30\u001b[0m             \u001b[0mprint\u001b[0m\u001b[0;34m(\u001b[0m\u001b[0md\u001b[0m\u001b[0;34m)\u001b[0m\u001b[0;34m\u001b[0m\u001b[0;34m\u001b[0m\u001b[0m\n\u001b[0;32m---> 31\u001b[0;31m             \u001b[0ms\u001b[0m \u001b[0;34m+=\u001b[0m \u001b[0mm\u001b[0m \u001b[0;34m*\u001b[0m \u001b[0mA\u001b[0m\u001b[0;34m[\u001b[0m\u001b[0;36m0\u001b[0m\u001b[0;34m,\u001b[0m\u001b[0mj\u001b[0m\u001b[0;34m]\u001b[0m\u001b[0;34m*\u001b[0m \u001b[0md\u001b[0m\u001b[0;34m[\u001b[0m\u001b[0;36m0\u001b[0m\u001b[0;34m]\u001b[0m\u001b[0;34m\u001b[0m\u001b[0;34m\u001b[0m\u001b[0m\n\u001b[0m\u001b[1;32m     32\u001b[0m             \u001b[0mm\u001b[0m \u001b[0;34m=\u001b[0m \u001b[0;34m(\u001b[0m\u001b[0;34m-\u001b[0m\u001b[0;36m1\u001b[0m\u001b[0;34m)\u001b[0m\u001b[0;34m*\u001b[0m\u001b[0mm\u001b[0m\u001b[0;34m\u001b[0m\u001b[0;34m\u001b[0m\u001b[0m\n\u001b[1;32m     33\u001b[0m             \u001b[0mc\u001b[0m \u001b[0;34m+=\u001b[0m \u001b[0md\u001b[0m\u001b[0;34m[\u001b[0m\u001b[0;36m1\u001b[0m\u001b[0;34m]\u001b[0m\u001b[0;34m\u001b[0m\u001b[0;34m\u001b[0m\u001b[0m\n",
      "\u001b[0;31mIndexError\u001b[0m: invalid index to scalar variable."
     ]
    }
   ],
   "source": [
    "#Test this function\n",
    "B                 = np.array([[1,2,3,4],[5,6,7,8],[9,10,11,12],[13,14,15,16]])\n",
    "\n",
    "det_B, counter_op = det_NN_count(B, len(B))\n",
    "\n",
    "print(\"det(B) = \", det_B)\n",
    "print(\"number of operations = \", counter_op)"
   ]
  },
  {
   "cell_type": "code",
   "execution_count": 12,
   "metadata": {},
   "outputs": [
    {
     "ename": "TypeError",
     "evalue": "cannot unpack non-iterable int object",
     "output_type": "error",
     "traceback": [
      "\u001b[0;31m---------------------------------------------------------------------------\u001b[0m",
      "\u001b[0;31mTypeError\u001b[0m                                 Traceback (most recent call last)",
      "\u001b[0;32m/tmp/ipykernel_28193/629019826.py\u001b[0m in \u001b[0;36m<module>\u001b[0;34m\u001b[0m\n\u001b[1;32m     12\u001b[0m \u001b[0;34m\u001b[0m\u001b[0m\n\u001b[1;32m     13\u001b[0m     \u001b[0;31m# count the number of operation by the algorithm\u001b[0m\u001b[0;34m\u001b[0m\u001b[0;34m\u001b[0m\u001b[0m\n\u001b[0;32m---> 14\u001b[0;31m     \u001b[0mdet_B\u001b[0m\u001b[0;34m,\u001b[0m \u001b[0mc\u001b[0m\u001b[0;34m[\u001b[0m\u001b[0mi\u001b[0m\u001b[0;34m-\u001b[0m\u001b[0;36m2\u001b[0m\u001b[0;34m]\u001b[0m  \u001b[0;34m=\u001b[0m \u001b[0mdet_NN_count\u001b[0m\u001b[0;34m(\u001b[0m\u001b[0mB\u001b[0m\u001b[0;34m,\u001b[0m \u001b[0mi\u001b[0m\u001b[0;34m)\u001b[0m\u001b[0;34m\u001b[0m\u001b[0;34m\u001b[0m\u001b[0m\n\u001b[0m\u001b[1;32m     15\u001b[0m     \u001b[0;31m# modify with the value found in 7.c (theory)\u001b[0m\u001b[0;34m\u001b[0m\u001b[0;34m\u001b[0m\u001b[0m\n\u001b[1;32m     16\u001b[0m     \u001b[0mc_ref\u001b[0m\u001b[0;34m[\u001b[0m\u001b[0mi\u001b[0m\u001b[0;34m-\u001b[0m\u001b[0;36m2\u001b[0m\u001b[0;34m]\u001b[0m     \u001b[0;34m=\u001b[0m \u001b[0;36m0\u001b[0m\u001b[0;34m\u001b[0m\u001b[0;34m\u001b[0m\u001b[0m\n",
      "\u001b[0;31mTypeError\u001b[0m: cannot unpack non-iterable int object"
     ]
    }
   ],
   "source": [
    "# maximum size of the matrix \n",
    "N     = 6\n",
    "\n",
    "# number of operations (algo and theory)\n",
    "c     = np.zeros(N-2)\n",
    "c_ref = np.zeros(N-2)\n",
    "\n",
    "# loop on the size of matrix\n",
    "for i in range(2,N):\n",
    "    # example of matrix of size i (only the size matters to compute the number of operations)\n",
    "    B              = np.eye(i)\n",
    "    \n",
    "    # count the number of operation by the algorithm\n",
    "    det_B, c[i-2]  = det_NN_count(B, i)\n",
    "    # modify with the value found in 7.c (theory)\n",
    "    c_ref[i-2]     = 0\n",
    "        \n",
    "        \n",
    "# plot the number of operation as a function of N\n",
    "plt.figure(1)\n",
    "plt.plot( range(2,N),     c      , color='red',  label=\"Nb of operation in the code\")\n",
    "plt.plot( range(2,N), c_ref, '--', color='blue', label=\"Nb of operation in theory\"  )\n",
    "plt.legend()\n",
    "plt.show()"
   ]
  },
  {
   "cell_type": "markdown",
   "metadata": {},
   "source": [
    "10) a) <b>Save your notebook</b> before every run. \n",
    "\n",
    "b) Test again your algorithm with a $N\\times N$ matrix with $N=15$.\n",
    "\n",
    "c) Up to which $N$ is your code efficient? And for which $N$ is it impossible to use? "
   ]
  },
  {
   "cell_type": "code",
   "execution_count": null,
   "metadata": {},
   "outputs": [],
   "source": []
  },
  {
   "cell_type": "markdown",
   "metadata": {},
   "source": [
    "**Answer:** "
   ]
  },
  {
   "cell_type": "markdown",
   "metadata": {},
   "source": [
    "---\n",
    "\n",
    "## Computation of the inverse\n",
    "\n",
    "**To go further:**"
   ]
  },
  {
   "cell_type": "markdown",
   "metadata": {},
   "source": [
    "11) Recall Cramer's formula for the solution of the linear system $A V = b$. \n"
   ]
  },
  {
   "cell_type": "markdown",
   "metadata": {},
   "source": [
    "**Answer:** "
   ]
  },
  {
   "cell_type": "markdown",
   "metadata": {},
   "source": [
    "12) Implement an algorithm to solve a linear system $AV=b$ using the functions \"det_NN\", and test it with the matrix provided."
   ]
  },
  {
   "cell_type": "code",
   "execution_count": null,
   "metadata": {},
   "outputs": [],
   "source": [
    "def Cramer(A, b):\n",
    "    \"\"\"\n",
    "    Solves the problem AV = b with Cramer's formula\n",
    "    ----------   \n",
    "    parameters:\n",
    "    A       : matrix (numpy array of size N,N)\n",
    "    b       : RHS vector (numpy array of size N)\n",
    "    counter : \n",
    "    \n",
    "    returns:\n",
    "    V     : solution of the problem AV = b\n",
    "    \"\"\"\n",
    " \n",
    "    ### Write your formula\n",
    "    V = np.zeros(len(b))\n",
    "    \n",
    "    return V"
   ]
  },
  {
   "cell_type": "code",
   "execution_count": null,
   "metadata": {},
   "outputs": [],
   "source": [
    "N      = 5\n",
    "\n",
    "B      = np.ones((N,N)) + (N+2.) * np.eye(N)\n",
    "B[0,0] = 0\n",
    "b      = np.ones(N)\n",
    "b[-1]  = 2\n",
    "sol    = Cramer(B,b)\n",
    "\n",
    "print(\"V  = \", sol)\n",
    "print(\"AV = \", np.matmul(B,sol))"
   ]
  },
  {
   "cell_type": "markdown",
   "metadata": {},
   "source": [
    "13) Count the number of operations required to compute this solution with Cramer's formula for different $N$. "
   ]
  },
  {
   "cell_type": "code",
   "execution_count": null,
   "metadata": {},
   "outputs": [],
   "source": []
  }
 ],
 "metadata": {
  "kernelspec": {
   "display_name": "Python 3 (ipykernel)",
   "language": "python",
   "name": "python3"
  },
  "language_info": {
   "codemirror_mode": {
    "name": "ipython",
    "version": 3
   },
   "file_extension": ".py",
   "mimetype": "text/x-python",
   "name": "python",
   "nbconvert_exporter": "python",
   "pygments_lexer": "ipython3",
   "version": "3.9.7"
  },
  "latex_envs": {
   "LaTeX_envs_menu_present": true,
   "autoclose": false,
   "autocomplete": true,
   "bibliofile": "biblio.bib",
   "cite_by": "apalike",
   "current_citInitial": 1,
   "eqLabelWithNumbers": true,
   "eqNumInitial": 1,
   "hotkeys": {
    "equation": "Ctrl-E",
    "itemize": "Ctrl-I"
   },
   "labels_anchors": false,
   "latex_user_defs": false,
   "report_style_numbering": false,
   "user_envs_cfg": false
  },
  "toc": {
   "base_numbering": 1,
   "nav_menu": {},
   "number_sections": true,
   "sideBar": true,
   "skip_h1_title": true,
   "title_cell": "Table of Contents",
   "title_sidebar": "Contents",
   "toc_cell": false,
   "toc_position": {},
   "toc_section_display": true,
   "toc_window_display": false
  }
 },
 "nbformat": 4,
 "nbformat_minor": 2
}
